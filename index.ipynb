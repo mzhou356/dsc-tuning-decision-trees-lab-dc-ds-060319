{
 "cells": [
  {
   "cell_type": "markdown",
   "metadata": {},
   "source": [
    "# Hyperparameter Tuning and Pruning in Decision Trees - Lab\n",
    "\n",
    "## Introduction\n",
    "\n",
    "In this lab we will use the titanic dataset to see the impact of tree pruning and hyper parameter tuning on the predictive performance of decision tree classifier. Pruning reduces the size of decision trees by removing nodes of the tree that do not provide power to classify instances. Decision trees are the most susceptible out of all the machine learning algorithms to overfitting and effective pruning can reduce this likelihood. In this lab, we shall work with the Titanic dataset and see how we can tweak different hyper parameters for optimal pruning of the trees. \n",
    "\n",
    "## Objectives\n",
    "You will be able to:\n",
    "- Demonstrate how pruning is performed for decision trees \n",
    "- Understand and explain the role of different Decision tree hyperparameters\n",
    "- Select the best values for chosen hyperparameters and monitor the improvement in performance"
   ]
  },
  {
   "cell_type": "markdown",
   "metadata": {},
   "source": [
    "## Import necessary libraries\n",
    "\n",
    "Let's first import the libraries you would need for this lab. "
   ]
  },
  {
   "cell_type": "code",
   "execution_count": 1,
   "metadata": {},
   "outputs": [],
   "source": [
    "import numpy as np\n",
    "import pandas as pd\n",
    "import matplotlib as mpl\n",
    "import matplotlib.pyplot as plt\n",
    "from sklearn.model_selection import train_test_split\n",
    "from sklearn.tree import DecisionTreeClassifier\n",
    "from sklearn.metrics import roc_curve, auc\n",
    "plt.style.use('seaborn')"
   ]
  },
  {
   "cell_type": "markdown",
   "metadata": {},
   "source": [
    "## Read the Titanic Dataset\n",
    "\n",
    "In the repo, we have made titanic dataset , all cleaned up and pre-processed for you, so that you can focus on pruning and optimization. The features set is available as `featues.csv` and target variable as `target.csv`. \n",
    "- Load these files into separate dataframes below.\n",
    "- Check the shape for consistency and the view the head "
   ]
  },
  {
   "cell_type": "code",
   "execution_count": 8,
   "metadata": {},
   "outputs": [],
   "source": [
    "# Load features and target variables\n",
    "features = pd.read_csv('features.csv')\n",
    "target = pd.read_csv('target.csv')\n",
    "# Your code here \n"
   ]
  },
  {
   "cell_type": "markdown",
   "metadata": {},
   "source": [
    "This is great. Now that we have our x (feat) and y(target), we can go ahead and make a split necessary for supervised learning."
   ]
  },
  {
   "cell_type": "markdown",
   "metadata": {},
   "source": [
    "## Create a 70/30 Train/Test split\n",
    "- Using features and target variables above , create a 70/30 split using "
   ]
  },
  {
   "cell_type": "code",
   "execution_count": 9,
   "metadata": {},
   "outputs": [],
   "source": [
    "# Create a 70/30 split for given X and y \n",
    "X_train,X_test, y_train,y_test = train_test_split(features,target, test_size = 30)\n",
    "# Your code here "
   ]
  },
  {
   "cell_type": "markdown",
   "metadata": {},
   "source": [
    "So now we have our data ready for training, lets first train a DT classifier with this data\n",
    "## Train a Vanilla Classifier\n",
    "\n",
    "__Note:__ The term \"vanilla\" is used for a machine learning algorithm with its default settings (no tweaking/tuning).\n",
    "\n",
    "- Create a decision tree instance\n",
    "- Fit a DT classifier with training dataset using all default settings for hyperparameters i.e. we don't change any parameter.\n",
    "- Set the impurity criteria to \"entropy\"."
   ]
  },
  {
   "cell_type": "code",
   "execution_count": 10,
   "metadata": {},
   "outputs": [],
   "source": [
    "# Train the classifier using training data \n",
    "model1 = DecisionTreeClassifier(criterion='entropy')\n",
    "model1.fit(X_train,y_train)\n",
    "pred1 = model1.predict(X_test)\n",
    "\n",
    "# Your code here "
   ]
  },
  {
   "cell_type": "markdown",
   "metadata": {},
   "source": [
    "## Make predictions \n",
    "- Create a set of predictions using the test set \n",
    "- Using `y_test` and `y_pred`, calculate the AUC (Area under curve) to check the predictive performance"
   ]
  },
  {
   "cell_type": "code",
   "execution_count": 11,
   "metadata": {},
   "outputs": [
    {
     "data": {
      "text/plain": [
       "0.8666666666666668"
      ]
     },
     "execution_count": 11,
     "metadata": {},
     "output_type": "execute_result"
    }
   ],
   "source": [
    "# Make predictions using test set \n",
    "\n",
    "\n",
    "# Your code here \n",
    "tpr,fpr,thresholds = roc_curve(pred1,y_test)\n",
    "\n",
    "# Check the AUC of predictions\n",
    "\n",
    "auc(tpr,fpr)\n",
    "# Your code here "
   ]
  },
  {
   "cell_type": "markdown",
   "metadata": {},
   "source": [
    "## Maximum Tree Depth\n",
    "\n",
    "Let's first check for the best depth parameter for our decision tree. \n",
    "- Create an array for for depth values ranging from 1 - 32. \n",
    "- In a loop, train the classifier for each depth value (32 runs) \n",
    "- Calculate the training and test AUC for each run \n",
    "- Plot a graph to show under/over fitting and optimal value \n",
    "- Interpret the results"
   ]
  },
  {
   "cell_type": "code",
   "execution_count": 15,
   "metadata": {},
   "outputs": [
    {
     "name": "stdout",
     "output_type": "stream",
     "text": [
      "[0.8392857142857143, 0.825, 0.8823529411764706, 0.8823529411764706, 0.8823529411764706, 0.8421052631578947, 0.8421052631578947, 0.825, 0.8421052631578947, 0.8421052631578947, 0.8421052631578947, 0.825, 0.8421052631578947, 0.8611111111111112, 0.8421052631578947, 0.8611111111111112, 0.7916666666666667, 0.8392857142857143, 0.8392857142857143, 0.8666666666666668, 0.8392857142857143, 0.8392857142857143, 0.8144796380090498, 0.8666666666666668, 0.8666666666666668, 0.8144796380090498, 0.8392857142857143, 0.8392857142857143, 0.8, 0.8392857142857143, 0.8, 0.8392857142857143]\n"
     ]
    }
   ],
   "source": [
    "# Identify the optimal tree depth for given data\n",
    "depths = np.arange(1,33,1)\n",
    "aucs = []\n",
    "for depth in depths:\n",
    "    model = DecisionTreeClassifier(criterion='entropy',max_depth=depth)\n",
    "    model.fit(X_train,y_train)\n",
    "    preds = model.predict(X_test)\n",
    "    tpr,fpr,thresholds = roc_curve(preds,y_test)\n",
    "    aucs.append(auc(tpr,fpr))\n",
    "    \n",
    "# Your code here \n",
    "print(aucs)"
   ]
  },
  {
   "cell_type": "code",
   "execution_count": 18,
   "metadata": {},
   "outputs": [
    {
     "data": {
      "text/plain": [
       "([<matplotlib.axis.XTick at 0x7f9cf38844a8>,\n",
       "  <matplotlib.axis.XTick at 0x7f9cf389dbe0>,\n",
       "  <matplotlib.axis.XTick at 0x7f9cf389d2e8>,\n",
       "  <matplotlib.axis.XTick at 0x7f9cf38484a8>,\n",
       "  <matplotlib.axis.XTick at 0x7f9cf3848978>,\n",
       "  <matplotlib.axis.XTick at 0x7f9cf3848d68>,\n",
       "  <matplotlib.axis.XTick at 0x7f9cf384f2e8>,\n",
       "  <matplotlib.axis.XTick at 0x7f9cf384f828>,\n",
       "  <matplotlib.axis.XTick at 0x7f9cf384fd68>,\n",
       "  <matplotlib.axis.XTick at 0x7f9cf38552e8>,\n",
       "  <matplotlib.axis.XTick at 0x7f9cf3855828>,\n",
       "  <matplotlib.axis.XTick at 0x7f9cf3855d68>,\n",
       "  <matplotlib.axis.XTick at 0x7f9cf385c2e8>,\n",
       "  <matplotlib.axis.XTick at 0x7f9cf38557b8>,\n",
       "  <matplotlib.axis.XTick at 0x7f9cf3848e48>,\n",
       "  <matplotlib.axis.XTick at 0x7f9cf385c828>,\n",
       "  <matplotlib.axis.XTick at 0x7f9cf385cd68>,\n",
       "  <matplotlib.axis.XTick at 0x7f9cf38662e8>,\n",
       "  <matplotlib.axis.XTick at 0x7f9cf3866828>,\n",
       "  <matplotlib.axis.XTick at 0x7f9cf3866d68>,\n",
       "  <matplotlib.axis.XTick at 0x7f9cf386e2e8>,\n",
       "  <matplotlib.axis.XTick at 0x7f9cf386e828>,\n",
       "  <matplotlib.axis.XTick at 0x7f9cf38663c8>,\n",
       "  <matplotlib.axis.XTick at 0x7f9cf3848240>,\n",
       "  <matplotlib.axis.XTick at 0x7f9cf386e748>,\n",
       "  <matplotlib.axis.XTick at 0x7f9cf3876208>,\n",
       "  <matplotlib.axis.XTick at 0x7f9cf3876748>,\n",
       "  <matplotlib.axis.XTick at 0x7f9cf3876c88>,\n",
       "  <matplotlib.axis.XTick at 0x7f9cf3800208>,\n",
       "  <matplotlib.axis.XTick at 0x7f9cf3800748>,\n",
       "  <matplotlib.axis.XTick at 0x7f9cf3800c88>,\n",
       "  <matplotlib.axis.XTick at 0x7f9cf38007f0>],\n",
       " <a list of 32 Text xticklabel objects>)"
      ]
     },
     "execution_count": 18,
     "metadata": {},
     "output_type": "execute_result"
    },
    {
     "data": {
      "image/png": "[encoded data removed]",
      "text/plain": [
       "<Figure size 432x288 with 1 Axes>"
      ]
     },
     "metadata": {
      "needs_background": "light"
     },
     "output_type": "display_data"
    }
   ],
   "source": [
    "# You observations here \n",
    "plt.plot(depths,aucs)\n",
    "plt.xticks(depths, rotation = 90)"
   ]
  },
  {
   "cell_type": "markdown",
   "metadata": {},
   "source": [
    "## Minimum Sample Split\n",
    "\n",
    "Now check for the best `min_samples_splits` parameter for our decision tree. \n",
    "- Create an array for for `min_sample_splits` values ranging from 0.1 - 1 with an increment of 0.1 \n",
    "- In a loop, train the classifier for each `min_samples_splits` value (10 runs) \n",
    "- Calculate the training and test AUC for each run \n",
    "- Plot a graph to show under/over fitting and optimal value \n",
    "- Interpret the results"
   ]
  },
  {
   "cell_type": "code",
   "execution_count": 19,
   "metadata": {},
   "outputs": [
    {
     "data": {
      "image/png": "[encoded data removed]",
      "text/plain": [
       "<Figure size 432x288 with 1 Axes>"
      ]
     },
     "metadata": {
      "needs_background": "light"
     },
     "output_type": "display_data"
    }
   ],
   "source": [
    "# Identify the optimal min-samples-split for given data\n",
    "min_splits = np.arange(0.1,1.1,0.1)\n",
    "tests =[]\n",
    "trains =[]\n",
    "for split in min_splits:\n",
    "    model = DecisionTreeClassifier(criterion='entropy',min_samples_split=split)\n",
    "    model.fit(X_train,y_train)\n",
    "    predt = model.predict(X_train)\n",
    "    tprt,fprt,thresholdst = roc_curve(predt,y_train)\n",
    "    trains.append(auc(tprt,fprt))\n",
    "    preds = model.predict(X_test)\n",
    "    tpr,fpr,thresholds = roc_curve(preds,y_test)\n",
    "    tests.append(auc(tpr,fpr))\n",
    "\n",
    "\n",
    "# Your code here \n",
    "plt.plot(min_splits,trains, color = 'red', label = 'Train AUC')\n",
    "plt.plot(min_splits,tests, color = 'blue', label = 'Test AUC')\n",
    "plt.legend()\n",
    "plt.show()"
   ]
  },
  {
   "cell_type": "code",
   "execution_count": 171,
   "metadata": {},
   "outputs": [],
   "source": [
    "# Your observations\n",
    "\n"
   ]
  },
  {
   "cell_type": "markdown",
   "metadata": {},
   "source": [
    "## Minimum Sample Leafs\n",
    "\n",
    "Now check for the best `min_samples_leafs` parameter value for our decision tree. \n",
    "- Create an array for for `min_samples_leafs` values ranging from 0.1 - 0.5 with an increment of 0.1 \n",
    "- In a loop, train the classifier for each `min_samples_leafs` value (5 runs) \n",
    "- Calculate the training and test AUC for each run \n",
    "- Plot a graph to show under/over fitting and optimal value \n",
    "- Interpret the results"
   ]
  },
  {
   "cell_type": "code",
   "execution_count": 21,
   "metadata": {},
   "outputs": [
    {
     "name": "stderr",
     "output_type": "stream",
     "text": [
      "/opt/conda/envs/learn-env/lib/python3.6/site-packages/sklearn/metrics/ranking.py:656: UndefinedMetricWarning: No positive samples in y_true, true positive value should be meaningless\n",
      "  UndefinedMetricWarning)\n",
      "/opt/conda/envs/learn-env/lib/python3.6/site-packages/sklearn/metrics/ranking.py:656: UndefinedMetricWarning: No positive samples in y_true, true positive value should be meaningless\n",
      "  UndefinedMetricWarning)\n"
     ]
    },
    {
     "data": {
      "image/png": "[encoded data removed]",
      "text/plain": [
       "<Figure size 432x288 with 1 Axes>"
      ]
     },
     "metadata": {
      "needs_background": "light"
     },
     "output_type": "display_data"
    }
   ],
   "source": [
    "# Calculate the optimal value for minimum sample leafs\n",
    "min_samples_leafs = np.arange(0.1,0.6,0.1)\n",
    "\n",
    "# Your code here \n",
    "tests =[]\n",
    "trains =[]\n",
    "for num in min_samples_leafs:\n",
    "    model = DecisionTreeClassifier(criterion='entropy',min_samples_leaf=num)\n",
    "    model.fit(X_train,y_train)\n",
    "    predt = model.predict(X_train)\n",
    "    tprt,fprt,thresholdst = roc_curve(predt,y_train)\n",
    "    trains.append(auc(tprt,fprt))\n",
    "    preds = model.predict(X_test)\n",
    "    tpr,fpr,thresholds = roc_curve(preds,y_test)\n",
    "    tests.append(auc(tpr,fpr))\n",
    "\n",
    "\n",
    "# Your code here \n",
    "plt.plot(min_samples_leafs,trains, color = 'red', label = 'Train AUC')\n",
    "plt.plot(min_samples_leafs,tests, color = 'blue', label = 'Test AUC')\n",
    "plt.legend()\n",
    "plt.show()"
   ]
  },
  {
   "cell_type": "code",
   "execution_count": 190,
   "metadata": {},
   "outputs": [],
   "source": [
    "# Your observations here \n"
   ]
  },
  {
   "cell_type": "markdown",
   "metadata": {},
   "source": [
    "## Maximum Features\n",
    "\n",
    "Now check for the best `max_features` parameter value for our decision tree. \n",
    "- Create an array for for `max_features` values ranging from 1 - 12 (1 features vs all)\n",
    "- In a loop, train the classifier for each `max_features` value (12 runs) \n",
    "- Calculate the training and test AUC for each run \n",
    "- Plot a graph to show under/over fitting and optimal value \n",
    "- Interpret the results"
   ]
  },
  {
   "cell_type": "code",
   "execution_count": 191,
   "metadata": {},
   "outputs": [
    {
     "data": {
      "image/png": "[encoded data removed]",
      "text/plain": [
       "<matplotlib.figure.Figure at 0x1a22e926a0>"
      ]
     },
     "metadata": {},
     "output_type": "display_data"
    }
   ],
   "source": [
    "# Find the best value for optimal maximum feature size\n",
    "max_features = \n",
    "\n",
    "# Your code here "
   ]
  },
  {
   "cell_type": "code",
   "execution_count": 178,
   "metadata": {},
   "outputs": [],
   "source": [
    "# Your observations here \n",
    "\n"
   ]
  },
  {
   "cell_type": "markdown",
   "metadata": {},
   "source": [
    "## Re-train the classifier with chosen values\n",
    "\n",
    "So now we shall use the best values from each training phase above and feed it back to our classifier and see if have any improvement in predictive performance. \n",
    "\n",
    "- Train the classifier with optimal values identified \n",
    "- compare the AUC with vanilla DT AUC \n",
    "- Interpret the results of comparison"
   ]
  },
  {
   "cell_type": "code",
   "execution_count": 192,
   "metadata": {},
   "outputs": [
    {
     "data": {
      "text/plain": [
       "0.7348379629629629"
      ]
     },
     "execution_count": 192,
     "metadata": {},
     "output_type": "execute_result"
    }
   ],
   "source": [
    "# train a classifier with optimal values identified above\n",
    "\n",
    "# Your code here "
   ]
  },
  {
   "cell_type": "code",
   "execution_count": null,
   "metadata": {},
   "outputs": [],
   "source": [
    "# You observations here \n"
   ]
  },
  {
   "cell_type": "markdown",
   "metadata": {},
   "source": [
    "In the next section, we shall talk about hyper-parameter tuning using a technique called \"grid-search\" to make this process even more granular and decisive. \n"
   ]
  },
  {
   "cell_type": "markdown",
   "metadata": {},
   "source": [
    "## Summary \n",
    "\n",
    "In this lesson, we looked at tuning a decision tree classifier in order to avoid over fitting and increasing the generalization capabilities of the classifier. For the Titanic dataset, we see that identifying optimal parameter values can result in some improvements towards predictions. This idea will be exploited further in upcoming lessons and labs. "
   ]
  }
 ],
 "metadata": {
  "kernelspec": {
   "display_name": "Python 3",
   "language": "python",
   "name": "python3"
  },
  "language_info": {
   "codemirror_mode": {
    "name": "ipython",
    "version": 3
   },
   "file_extension": ".py",
   "mimetype": "text/x-python",
   "name": "python",
   "nbconvert_exporter": "python",
   "pygments_lexer": "ipython3",
   "version": "3.6.6"
  }
 },
 "nbformat": 4,
 "nbformat_minor": 2
}
